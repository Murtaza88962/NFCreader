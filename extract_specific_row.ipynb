{
 "cells": [
  {
   "cell_type": "code",
   "execution_count": null,
   "id": "265f8903-d37a-4aef-a1e4-f46dd3950200",
   "metadata": {},
   "outputs": [],
   "source": [
    "import pandas as pd\n",
    "\n",
    "def extract_row_by_id(file_path, sheet_name, unique_id):\n",
    "    try:\n",
    "        \n",
    "        df = pd.read_excel(file_path, sheet_name=sheet_name)\n",
    "\n",
    "        \n",
    "        if unique_id in df.iloc[:, 0].values:\n",
    "            # Extract the row with the specified unique_id\n",
    "            selected_row = df[df.iloc[:, 0] == unique_id].values.tolist()[0]\n",
    "\n",
    "            return selected_row\n",
    "        else:\n",
    "            print(f\"Unique ID '{unique_id}' not found in the specified sheet.\")\n",
    "            return None\n",
    "    except Exception as e:\n",
    "        print(f\"Error: {e}\")\n",
    "        return None\n",
    "\n",
    "\n",
    "file_path = 'path/to/your/excel_file.xlsx'\n",
    "sheet_name = 'your_sheet_name'\n",
    "unique_id_to_search = 'your_unique_id'\n",
    "\n",
    "result = extract_row_by_id(file_path, sheet_name, unique_id_to_search)\n",
    "\n",
    "if result:\n",
    "    print(f\"Row data for Unique ID '{unique_id_to_search}': {result}\")\n"
   ]
  }
 ],
 "metadata": {
  "kernelspec": {
   "display_name": "Python 3 (ipykernel)",
   "language": "python",
   "name": "python3"
  },
  "language_info": {
   "codemirror_mode": {
    "name": "ipython",
    "version": 3
   },
   "file_extension": ".py",
   "mimetype": "text/x-python",
   "name": "python",
   "nbconvert_exporter": "python",
   "pygments_lexer": "ipython3",
   "version": "3.11.5"
  }
 },
 "nbformat": 4,
 "nbformat_minor": 5
}
